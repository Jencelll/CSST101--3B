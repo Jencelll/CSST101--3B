{
  "nbformat": 4,
  "nbformat_minor": 0,
  "metadata": {
    "colab": {
      "provenance": []
    },
    "kernelspec": {
      "name": "python3",
      "display_name": "Python 3"
    },
    "language_info": {
      "name": "python"
    },
    "widgets": {
      "application/vnd.jupyter.widget-state+json": {
        "b54dc4e799834c89acb2ecb815b62f98": {
          "model_module": "@jupyter-widgets/controls",
          "model_name": "FloatSliderModel",
          "model_module_version": "1.5.0",
          "state": {
            "_dom_classes": [],
            "_model_module": "@jupyter-widgets/controls",
            "_model_module_version": "1.5.0",
            "_model_name": "FloatSliderModel",
            "_view_count": null,
            "_view_module": "@jupyter-widgets/controls",
            "_view_module_version": "1.5.0",
            "_view_name": "FloatSliderView",
            "continuous_update": true,
            "description": "Humidity:",
            "description_tooltip": null,
            "disabled": false,
            "layout": "IPY_MODEL_4539a4a2605d4e0ead04fa5ab92a48fe",
            "max": 1,
            "min": 0,
            "orientation": "horizontal",
            "readout": true,
            "readout_format": ".2f",
            "step": 0.01,
            "style": "IPY_MODEL_39414316c3c643e2a52a0ced3e67c879",
            "value": 0.5
          }
        },
        "4539a4a2605d4e0ead04fa5ab92a48fe": {
          "model_module": "@jupyter-widgets/base",
          "model_name": "LayoutModel",
          "model_module_version": "1.2.0",
          "state": {
            "_model_module": "@jupyter-widgets/base",
            "_model_module_version": "1.2.0",
            "_model_name": "LayoutModel",
            "_view_count": null,
            "_view_module": "@jupyter-widgets/base",
            "_view_module_version": "1.2.0",
            "_view_name": "LayoutView",
            "align_content": null,
            "align_items": null,
            "align_self": null,
            "border": null,
            "bottom": null,
            "display": null,
            "flex": null,
            "flex_flow": null,
            "grid_area": null,
            "grid_auto_columns": null,
            "grid_auto_flow": null,
            "grid_auto_rows": null,
            "grid_column": null,
            "grid_gap": null,
            "grid_row": null,
            "grid_template_areas": null,
            "grid_template_columns": null,
            "grid_template_rows": null,
            "height": null,
            "justify_content": null,
            "justify_items": null,
            "left": null,
            "margin": null,
            "max_height": null,
            "max_width": null,
            "min_height": null,
            "min_width": null,
            "object_fit": null,
            "object_position": null,
            "order": null,
            "overflow": null,
            "overflow_x": null,
            "overflow_y": null,
            "padding": null,
            "right": null,
            "top": null,
            "visibility": null,
            "width": null
          }
        },
        "39414316c3c643e2a52a0ced3e67c879": {
          "model_module": "@jupyter-widgets/controls",
          "model_name": "SliderStyleModel",
          "model_module_version": "1.5.0",
          "state": {
            "_model_module": "@jupyter-widgets/controls",
            "_model_module_version": "1.5.0",
            "_model_name": "SliderStyleModel",
            "_view_count": null,
            "_view_module": "@jupyter-widgets/base",
            "_view_module_version": "1.2.0",
            "_view_name": "StyleView",
            "description_width": "",
            "handle_color": null
          }
        },
        "40284a780e2a435293b3f1626a9b041a": {
          "model_module": "@jupyter-widgets/controls",
          "model_name": "FloatSliderModel",
          "model_module_version": "1.5.0",
          "state": {
            "_dom_classes": [],
            "_model_module": "@jupyter-widgets/controls",
            "_model_module_version": "1.5.0",
            "_model_name": "FloatSliderModel",
            "_view_count": null,
            "_view_module": "@jupyter-widgets/controls",
            "_view_module_version": "1.5.0",
            "_view_name": "FloatSliderView",
            "continuous_update": true,
            "description": "Cloud Cover:",
            "description_tooltip": null,
            "disabled": false,
            "layout": "IPY_MODEL_1af13f75c5ce47f9b381b5955cc14491",
            "max": 1,
            "min": 0,
            "orientation": "horizontal",
            "readout": true,
            "readout_format": ".2f",
            "step": 0.01,
            "style": "IPY_MODEL_e15eb986262040f3a7f159136afc510d",
            "value": 0.5
          }
        },
        "1af13f75c5ce47f9b381b5955cc14491": {
          "model_module": "@jupyter-widgets/base",
          "model_name": "LayoutModel",
          "model_module_version": "1.2.0",
          "state": {
            "_model_module": "@jupyter-widgets/base",
            "_model_module_version": "1.2.0",
            "_model_name": "LayoutModel",
            "_view_count": null,
            "_view_module": "@jupyter-widgets/base",
            "_view_module_version": "1.2.0",
            "_view_name": "LayoutView",
            "align_content": null,
            "align_items": null,
            "align_self": null,
            "border": null,
            "bottom": null,
            "display": null,
            "flex": null,
            "flex_flow": null,
            "grid_area": null,
            "grid_auto_columns": null,
            "grid_auto_flow": null,
            "grid_auto_rows": null,
            "grid_column": null,
            "grid_gap": null,
            "grid_row": null,
            "grid_template_areas": null,
            "grid_template_columns": null,
            "grid_template_rows": null,
            "height": null,
            "justify_content": null,
            "justify_items": null,
            "left": null,
            "margin": null,
            "max_height": null,
            "max_width": null,
            "min_height": null,
            "min_width": null,
            "object_fit": null,
            "object_position": null,
            "order": null,
            "overflow": null,
            "overflow_x": null,
            "overflow_y": null,
            "padding": null,
            "right": null,
            "top": null,
            "visibility": null,
            "width": null
          }
        },
        "e15eb986262040f3a7f159136afc510d": {
          "model_module": "@jupyter-widgets/controls",
          "model_name": "SliderStyleModel",
          "model_module_version": "1.5.0",
          "state": {
            "_model_module": "@jupyter-widgets/controls",
            "_model_module_version": "1.5.0",
            "_model_name": "SliderStyleModel",
            "_view_count": null,
            "_view_module": "@jupyter-widgets/base",
            "_view_module_version": "1.2.0",
            "_view_name": "StyleView",
            "description_width": "",
            "handle_color": null
          }
        },
        "38bfe4e96dbb45a7aaeb8a739f087ea1": {
          "model_module": "@jupyter-widgets/controls",
          "model_name": "VBoxModel",
          "model_module_version": "1.5.0",
          "state": {
            "_dom_classes": [],
            "_model_module": "@jupyter-widgets/controls",
            "_model_module_version": "1.5.0",
            "_model_name": "VBoxModel",
            "_view_count": null,
            "_view_module": "@jupyter-widgets/controls",
            "_view_module_version": "1.5.0",
            "_view_name": "VBoxView",
            "box_style": "",
            "children": [
              "IPY_MODEL_1aa38b5ba3c642d380be4f19946c2641",
              "IPY_MODEL_3a802811ded14ad4bf54a2eea3250e5e"
            ],
            "layout": "IPY_MODEL_dba0849a967b490f9db34b781e26b93e"
          }
        },
        "1aa38b5ba3c642d380be4f19946c2641": {
          "model_module": "@jupyter-widgets/controls",
          "model_name": "IntSliderModel",
          "model_module_version": "1.5.0",
          "state": {
            "_dom_classes": [],
            "_model_module": "@jupyter-widgets/controls",
            "_model_module_version": "1.5.0",
            "_model_name": "IntSliderModel",
            "_view_count": null,
            "_view_module": "@jupyter-widgets/controls",
            "_view_module_version": "1.5.0",
            "_view_name": "IntSliderView",
            "continuous_update": true,
            "description": "Number of Trials:",
            "description_tooltip": null,
            "disabled": false,
            "layout": "IPY_MODEL_c7ae364ee4234b3ebd66dd2161c958db",
            "max": 5000,
            "min": 10,
            "orientation": "horizontal",
            "readout": true,
            "readout_format": "d",
            "step": 10,
            "style": "IPY_MODEL_c345be429a054e578bc14781b1c23f28",
            "value": 1000
          }
        },
        "3a802811ded14ad4bf54a2eea3250e5e": {
          "model_module": "@jupyter-widgets/controls",
          "model_name": "FloatSliderModel",
          "model_module_version": "1.5.0",
          "state": {
            "_dom_classes": [],
            "_model_module": "@jupyter-widgets/controls",
            "_model_module_version": "1.5.0",
            "_model_name": "FloatSliderModel",
            "_view_count": null,
            "_view_module": "@jupyter-widgets/controls",
            "_view_module_version": "1.5.0",
            "_view_name": "FloatSliderView",
            "continuous_update": true,
            "description": "Probability of Heads:",
            "description_tooltip": null,
            "disabled": false,
            "layout": "IPY_MODEL_bd9459dce68a45e88aa9501e21fc0d4e",
            "max": 1,
            "min": 0,
            "orientation": "horizontal",
            "readout": true,
            "readout_format": ".2f",
            "step": 0.01,
            "style": "IPY_MODEL_bd1c4f44bd104200950171e8a7f215a9",
            "value": 0.5
          }
        },
        "dba0849a967b490f9db34b781e26b93e": {
          "model_module": "@jupyter-widgets/base",
          "model_name": "LayoutModel",
          "model_module_version": "1.2.0",
          "state": {
            "_model_module": "@jupyter-widgets/base",
            "_model_module_version": "1.2.0",
            "_model_name": "LayoutModel",
            "_view_count": null,
            "_view_module": "@jupyter-widgets/base",
            "_view_module_version": "1.2.0",
            "_view_name": "LayoutView",
            "align_content": null,
            "align_items": null,
            "align_self": null,
            "border": null,
            "bottom": null,
            "display": null,
            "flex": null,
            "flex_flow": null,
            "grid_area": null,
            "grid_auto_columns": null,
            "grid_auto_flow": null,
            "grid_auto_rows": null,
            "grid_column": null,
            "grid_gap": null,
            "grid_row": null,
            "grid_template_areas": null,
            "grid_template_columns": null,
            "grid_template_rows": null,
            "height": null,
            "justify_content": null,
            "justify_items": null,
            "left": null,
            "margin": null,
            "max_height": null,
            "max_width": null,
            "min_height": null,
            "min_width": null,
            "object_fit": null,
            "object_position": null,
            "order": null,
            "overflow": null,
            "overflow_x": null,
            "overflow_y": null,
            "padding": null,
            "right": null,
            "top": null,
            "visibility": null,
            "width": null
          }
        },
        "c7ae364ee4234b3ebd66dd2161c958db": {
          "model_module": "@jupyter-widgets/base",
          "model_name": "LayoutModel",
          "model_module_version": "1.2.0",
          "state": {
            "_model_module": "@jupyter-widgets/base",
            "_model_module_version": "1.2.0",
            "_model_name": "LayoutModel",
            "_view_count": null,
            "_view_module": "@jupyter-widgets/base",
            "_view_module_version": "1.2.0",
            "_view_name": "LayoutView",
            "align_content": null,
            "align_items": null,
            "align_self": null,
            "border": null,
            "bottom": null,
            "display": null,
            "flex": null,
            "flex_flow": null,
            "grid_area": null,
            "grid_auto_columns": null,
            "grid_auto_flow": null,
            "grid_auto_rows": null,
            "grid_column": null,
            "grid_gap": null,
            "grid_row": null,
            "grid_template_areas": null,
            "grid_template_columns": null,
            "grid_template_rows": null,
            "height": null,
            "justify_content": null,
            "justify_items": null,
            "left": null,
            "margin": null,
            "max_height": null,
            "max_width": null,
            "min_height": null,
            "min_width": null,
            "object_fit": null,
            "object_position": null,
            "order": null,
            "overflow": null,
            "overflow_x": null,
            "overflow_y": null,
            "padding": null,
            "right": null,
            "top": null,
            "visibility": null,
            "width": null
          }
        },
        "c345be429a054e578bc14781b1c23f28": {
          "model_module": "@jupyter-widgets/controls",
          "model_name": "SliderStyleModel",
          "model_module_version": "1.5.0",
          "state": {
            "_model_module": "@jupyter-widgets/controls",
            "_model_module_version": "1.5.0",
            "_model_name": "SliderStyleModel",
            "_view_count": null,
            "_view_module": "@jupyter-widgets/base",
            "_view_module_version": "1.2.0",
            "_view_name": "StyleView",
            "description_width": "",
            "handle_color": null
          }
        },
        "bd9459dce68a45e88aa9501e21fc0d4e": {
          "model_module": "@jupyter-widgets/base",
          "model_name": "LayoutModel",
          "model_module_version": "1.2.0",
          "state": {
            "_model_module": "@jupyter-widgets/base",
            "_model_module_version": "1.2.0",
            "_model_name": "LayoutModel",
            "_view_count": null,
            "_view_module": "@jupyter-widgets/base",
            "_view_module_version": "1.2.0",
            "_view_name": "LayoutView",
            "align_content": null,
            "align_items": null,
            "align_self": null,
            "border": null,
            "bottom": null,
            "display": null,
            "flex": null,
            "flex_flow": null,
            "grid_area": null,
            "grid_auto_columns": null,
            "grid_auto_flow": null,
            "grid_auto_rows": null,
            "grid_column": null,
            "grid_gap": null,
            "grid_row": null,
            "grid_template_areas": null,
            "grid_template_columns": null,
            "grid_template_rows": null,
            "height": null,
            "justify_content": null,
            "justify_items": null,
            "left": null,
            "margin": null,
            "max_height": null,
            "max_width": null,
            "min_height": null,
            "min_width": null,
            "object_fit": null,
            "object_position": null,
            "order": null,
            "overflow": null,
            "overflow_x": null,
            "overflow_y": null,
            "padding": null,
            "right": null,
            "top": null,
            "visibility": null,
            "width": null
          }
        },
        "bd1c4f44bd104200950171e8a7f215a9": {
          "model_module": "@jupyter-widgets/controls",
          "model_name": "SliderStyleModel",
          "model_module_version": "1.5.0",
          "state": {
            "_model_module": "@jupyter-widgets/controls",
            "_model_module_version": "1.5.0",
            "_model_name": "SliderStyleModel",
            "_view_count": null,
            "_view_module": "@jupyter-widgets/base",
            "_view_module_version": "1.2.0",
            "_view_name": "StyleView",
            "description_width": "",
            "handle_color": null
          }
        },
        "75d1d752f3e04e6381f0a324a1dd8f1d": {
          "model_module": "@jupyter-widgets/output",
          "model_name": "OutputModel",
          "model_module_version": "1.0.0",
          "state": {
            "_dom_classes": [],
            "_model_module": "@jupyter-widgets/output",
            "_model_module_version": "1.0.0",
            "_model_name": "OutputModel",
            "_view_count": null,
            "_view_module": "@jupyter-widgets/output",
            "_view_module_version": "1.0.0",
            "_view_name": "OutputView",
            "layout": "IPY_MODEL_e9e09e91ad9d4306be8e700843a82fa6",
            "msg_id": "",
            "outputs": [
              {
                "output_type": "display_data",
                "data": {
                  "text/plain": "<Figure size 1200x600 with 2 Axes>",
                  "image/png": "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\n"
                },
                "metadata": {}
              }
            ]
          }
        },
        "e9e09e91ad9d4306be8e700843a82fa6": {
          "model_module": "@jupyter-widgets/base",
          "model_name": "LayoutModel",
          "model_module_version": "1.2.0",
          "state": {
            "_model_module": "@jupyter-widgets/base",
            "_model_module_version": "1.2.0",
            "_model_name": "LayoutModel",
            "_view_count": null,
            "_view_module": "@jupyter-widgets/base",
            "_view_module_version": "1.2.0",
            "_view_name": "LayoutView",
            "align_content": null,
            "align_items": null,
            "align_self": null,
            "border": null,
            "bottom": null,
            "display": null,
            "flex": null,
            "flex_flow": null,
            "grid_area": null,
            "grid_auto_columns": null,
            "grid_auto_flow": null,
            "grid_auto_rows": null,
            "grid_column": null,
            "grid_gap": null,
            "grid_row": null,
            "grid_template_areas": null,
            "grid_template_columns": null,
            "grid_template_rows": null,
            "height": null,
            "justify_content": null,
            "justify_items": null,
            "left": null,
            "margin": null,
            "max_height": null,
            "max_width": null,
            "min_height": null,
            "min_width": null,
            "object_fit": null,
            "object_position": null,
            "order": null,
            "overflow": null,
            "overflow_x": null,
            "overflow_y": null,
            "padding": null,
            "right": null,
            "top": null,
            "visibility": null,
            "width": null
          }
        }
      }
    }
  },
  "cells": [
    {
      "cell_type": "markdown",
      "source": [
        "\n",
        "\n",
        "#**Exercise 1: Introduction to Probability Theory in AI**"
      ],
      "metadata": {
        "id": "J6x8sK9wzYnm"
      }
    },
    {
      "cell_type": "code",
      "source": [
        "def joint_probability(p_A, p_B):\n",
        "  return p_A * p_B\n",
        "\n",
        "def marginal_probability(p_A, p_B):\n",
        "  return p_A + p_B - joint_probability(p_A, p_B)\n",
        "\n",
        "def conditional_probability(p_B_given_A, p_A, p_B):\n",
        "  return (p_B_given_A * p_A) / p_B\n",
        "\n",
        "# Example Usage\n",
        "p_A = 0.3\n",
        "p_B = 0.4\n",
        "p_B_given_A = 0.8\n",
        "\n",
        "print(f\"Joint Probability: {joint_probability(p_A, p_B)}\")\n",
        "print(f\"Marginal Probability: {marginal_probability(p_A, p_B)}\")\n",
        "print(f\"Conditional Probability: {conditional_probability(p_B_given_A, p_A, p_B)}\")"
      ],
      "metadata": {
        "id": "HlphEMoC0uwI",
        "colab": {
          "base_uri": "https://localhost:8080/"
        },
        "collapsed": true,
        "outputId": "6afc0cf4-7779-4019-8a34-bb38d1787ad8"
      },
      "execution_count": 1,
      "outputs": [
        {
          "output_type": "stream",
          "name": "stdout",
          "text": [
            "Joint Probability: 0.12\n",
            "Marginal Probability: 0.58\n",
            "Conditional Probability: 0.6\n"
          ]
        }
      ]
    },
    {
      "cell_type": "markdown",
      "source": [
        "**Assessment Task 1: Basic Probability Calculations**"
      ],
      "metadata": {
        "id": "CWaIPg0_Xmjz"
      }
    },
    {
      "cell_type": "code",
      "source": [
        "def joint_probability(p_A, p_B):\n",
        "\n",
        "    return p_A * p_B\n",
        "\n",
        "def marginal_probability(p_A):\n",
        "\n",
        "    return p_A\n",
        "\n",
        "def conditional_probability(p_A_and_B, p_B):\n",
        "\n",
        "    if p_B == 0:\n",
        "        raise ValueError(\"Probability of event B cannot be zero.\")\n",
        "\n",
        "    return p_A_and_B / p_B\n",
        "\n",
        "# Example usage\n",
        "p_A = 0.3  # Probability of event A\n",
        "p_B = 0.4  # Probability of event B\n",
        "\n",
        "# Calculate joint probability\n",
        "joint_prob = joint_probability(p_A, p_B)\n",
        "print(f\"The joint probability of A and B is: {joint_prob:.4f}\")\n",
        "\n",
        "# Calculate marginal probabilities\n",
        "marginal_prob_A = marginal_probability(p_A)\n",
        "marginal_prob_B = marginal_probability(p_B)\n",
        "print(f\"The marginal probability of A is: {marginal_prob_A:.4f}\")\n",
        "print(f\"The marginal probability of B is: {marginal_prob_B:.4f}\")\n",
        "\n",
        "# Calculate conditional probability\n",
        "conditional_prob = conditional_probability(joint_prob, p_B)\n",
        "print(f\"The conditional probability of A given B is: {conditional_prob:.4f}\")"
      ],
      "metadata": {
        "colab": {
          "base_uri": "https://localhost:8080/"
        },
        "id": "cAzfC5dGXtii",
        "outputId": "d3655291-3491-448d-da4a-a4b6f95129bd"
      },
      "execution_count": 38,
      "outputs": [
        {
          "output_type": "stream",
          "name": "stdout",
          "text": [
            "The joint probability of A and B is: 0.1200\n",
            "The marginal probability of A is: 0.3000\n",
            "The marginal probability of B is: 0.4000\n",
            "The conditional probability of A given B is: 0.3000\n"
          ]
        }
      ]
    },
    {
      "cell_type": "markdown",
      "source": [
        "#**Exercise 2: Decision-Making Under Uncertainty**"
      ],
      "metadata": {
        "id": "BBG-oioDYVnV"
      }
    },
    {
      "cell_type": "code",
      "source": [
        "import numpy as np\n",
        "\n",
        "def simulate_decision(num_simulations, p_success, reward_success, reward_failure):\n",
        "  outcomes = []\n",
        "  for _ in range(num_simulations):\n",
        "    if np.random.rand() < p_success:\n",
        "      outcomes.append(reward_success)\n",
        "    else:\n",
        "      outcomes.append(reward_failure)\n",
        "  return np.mean(outcomes)\n",
        "\n",
        "p_success = 0.7\n",
        "reward_success = 1000\n",
        "reward_failure = -500\n",
        "\n",
        "average_outcome = simulate_decision(1000, p_success, reward_success, reward_failure)\n",
        "print(f\"Expected value of decision: {average_outcome}\")"
      ],
      "metadata": {
        "colab": {
          "base_uri": "https://localhost:8080/"
        },
        "id": "fpZoD4hYYbT0",
        "outputId": "b8dd7107-70dd-4c6a-d13f-4ec835fdfe47"
      },
      "execution_count": 3,
      "outputs": [
        {
          "output_type": "stream",
          "name": "stdout",
          "text": [
            "Expected value of decision: 565.0\n"
          ]
        }
      ]
    },
    {
      "cell_type": "markdown",
      "source": [
        "**Assessment Task 2: Bayesian Inference**"
      ],
      "metadata": {
        "id": "4dmYlM6GYgNk"
      }
    },
    {
      "cell_type": "code",
      "source": [
        "def bayesian_inference(prior_disease, sensitivity, false_positive_rate):\n",
        "\n",
        "    # Calculate the probability of testing positive\n",
        "    prior_no_disease = 1 - prior_disease\n",
        "    p_test_positive = (sensitivity * prior_disease) + (false_positive_rate * prior_no_disease)\n",
        "\n",
        "    # Apply Bayes' theorem\n",
        "    posterior_disease = (sensitivity * prior_disease) / p_test_positive\n",
        "\n",
        "    return posterior_disease\n",
        "\n",
        "# Given probabilities\n",
        "prior_disease = 0.01  # Probability of having the disease\n",
        "sensitivity = 0.90     # Probability of a positive test given disease\n",
        "false_positive_rate = 0.05  # Probability of a positive test given no disease\n",
        "\n",
        "# Calculate the posterior probability\n",
        "posterior_probability = bayesian_inference(prior_disease, sensitivity, false_positive_rate)\n",
        "print(f\"The probability that someone who tested positive actually has the disease is: {posterior_probability:.4f}\")\n",
        "print(f\"The probability that someone who tested positive actually has the disease is: {posterior_probability:.4f}\")"
      ],
      "metadata": {
        "colab": {
          "base_uri": "https://localhost:8080/"
        },
        "id": "bUP4jSoZYlH5",
        "outputId": "16218606-eccb-4835-f41c-5ed4ddab944e"
      },
      "execution_count": 37,
      "outputs": [
        {
          "output_type": "stream",
          "name": "stdout",
          "text": [
            "The probability that someone who tested positive actually has the disease is: 0.1538\n",
            "The probability that someone who tested positive actually has the disease is: 0.1538\n"
          ]
        }
      ]
    },
    {
      "cell_type": "markdown",
      "source": [
        "\n",
        "#**Exercise 3: Applying Probability Theory in AI for Diagnosis**\n",
        "\n",
        "\n",
        "\n"
      ],
      "metadata": {
        "id": "L_YWezZXY2Bh"
      }
    },
    {
      "cell_type": "code",
      "source": [
        "def bayesian_inference(prior, likelihood_positive_given_disease, likelihood_positive):\n",
        "    posterior = (likelihood_positive_given_disease * prior) / likelihood_positive\n",
        "    return posterior\n",
        "\n",
        "\n",
        "prior_disease = 0.01\n",
        "likelihood_positive_given_disease = 0.9\n",
        "likelihood_positive = 0.05\n",
        "\n",
        "posterior_disease = bayesian_inference(prior_disease, likelihood_positive_given_disease, likelihood_positive)\n",
        "print(f\"Posterior Probability of disease given positive test: {posterior_disease}\")"
      ],
      "metadata": {
        "colab": {
          "base_uri": "https://localhost:8080/"
        },
        "id": "7LgB89ZmY6g8",
        "outputId": "8797efd4-675c-4c42-fdd4-e1ef4245c97b"
      },
      "execution_count": 5,
      "outputs": [
        {
          "output_type": "stream",
          "name": "stdout",
          "text": [
            "Posterior Probability of disease given positive test: 0.18000000000000002\n"
          ]
        }
      ]
    },
    {
      "cell_type": "markdown",
      "source": [
        "**Assessment Task 3: Decision-Making Under Uncertainty**"
      ],
      "metadata": {
        "id": "SeB1B_XwZCU6"
      }
    },
    {
      "cell_type": "code",
      "source": [
        "import numpy as np\n",
        "\n",
        "def investment_simulation(success_probability=0.7, iterations=1000):\n",
        "\n",
        "    total_return = 0\n",
        "\n",
        "    # Simulate the investment process\n",
        "    for _ in range(iterations):\n",
        "        if np.random.rand() < success_probability:  # Success\n",
        "            total_return += 1000\n",
        "        else:  # Failure\n",
        "            total_return -= 500\n",
        "\n",
        "    average_return = total_return / iterations\n",
        "    return average_return\n",
        "\n",
        "def interactive_investment_simulation():\n",
        "\n",
        "    print(\"Welcome to the Investment Decision Simulation!\")\n",
        "\n",
        "    while True:\n",
        "        try:\n",
        "            # Get user input for probability of success\n",
        "            success_probability = float(input(\"Enter the probability of success (between 0 and 1): \"))\n",
        "            if not (0 <= success_probability <= 1):\n",
        "                raise ValueError(\"Probability must be between 0 and 1.\")\n",
        "            break\n",
        "        except ValueError as e:\n",
        "            print(e)\n",
        "\n",
        "    # Run the simulation with user-defined probability\n",
        "    iterations = 1000\n",
        "    average_return = investment_simulation(success_probability, iterations)\n",
        "\n",
        "    print(f\"\\nAverage return after {iterations} iterations \"\n",
        "          f\"(success probability {success_probability*100}%): ${average_return:.2f}\")\n",
        "\n",
        "# Run the interactive simulation\n",
        "if __name__ == \"__main__\":\n",
        "    interactive_investment_simulation()"
      ],
      "metadata": {
        "colab": {
          "base_uri": "https://localhost:8080/"
        },
        "id": "jSHXHR5tZGA9",
        "outputId": "62aa468d-b90a-4876-a32f-d6a7d66816fa"
      },
      "execution_count": 35,
      "outputs": [
        {
          "output_type": "stream",
          "name": "stdout",
          "text": [
            "Welcome to the Investment Decision Simulation!\n",
            "Enter the probability of success (between 0 and 1): 0\n",
            "\n",
            "Average return after 1000 iterations (success probability 0.0%): $-500.00\n"
          ]
        }
      ]
    },
    {
      "cell_type": "markdown",
      "source": [
        "# Exercise 4: Probability Distribution in AI"
      ],
      "metadata": {
        "id": "C-VjdYePZjFj"
      }
    },
    {
      "cell_type": "code",
      "source": [
        "import numpy as np\n",
        "import matplotlib.pyplot as plt"
      ],
      "metadata": {
        "id": "7wBGPVVaZndA"
      },
      "execution_count": 7,
      "outputs": []
    },
    {
      "cell_type": "code",
      "source": [
        "n_trials = 1000\n",
        "p_head = 0.5\n",
        "binomial_distribution = np.random.binomial(n=1, p=p_head, size=n_trials)\n",
        "\n",
        "plt.hist(binomial_distribution, bins=2)\n",
        "plt.title('Binomial Distribution (Coin Flips)')\n",
        "plt.show()"
      ],
      "metadata": {
        "colab": {
          "base_uri": "https://localhost:8080/",
          "height": 452
        },
        "id": "1GWaX-hmZqV6",
        "outputId": "f2778eec-d786-45e8-f2e5-82b4b16b7105"
      },
      "execution_count": 8,
      "outputs": [
        {
          "output_type": "display_data",
          "data": {
            "text/plain": [
              "<Figure size 640x480 with 1 Axes>"
            ],
            "image/png": "[encoded data removed]"
          },
          "metadata": {}
        }
      ]
    },
    {
      "cell_type": "markdown",
      "source": [
        "**Assessment Task 4: Real-World Scenario**"
      ],
      "metadata": {
        "id": "aimFaVUgZuyj"
      }
    },
    {
      "cell_type": "code",
      "source": [
        "import numpy as np\n",
        "import matplotlib.pyplot as plt\n",
        "import ipywidgets as widgets\n",
        "from IPython.display import display\n",
        "\n",
        "def calculate_probability_of_rain(humidity, cloud_cover):\n",
        "    \"\"\"\n",
        "    Calculate the probability of rain given humidity and cloud cover using conditional probabilities.\n",
        "\n",
        "    Parameters:\n",
        "    humidity (float): Humidity percentage (0 to 1).\n",
        "    cloud_cover (float): Cloud cover percentage (0 to 1).\n",
        "\n",
        "    Returns:\n",
        "    float: Probability of rain.\n",
        "    \"\"\"\n",
        "    # Prior probability of rain\n",
        "    P_rain = 0.3\n",
        "\n",
        "    # Likelihoods based on input conditions\n",
        "    P_humidity_given_rain = 0.8 if humidity > 0.5 else 0.2\n",
        "    P_humidity_given_no_rain = 0.4 if humidity > 0.5 else 0.6\n",
        "    P_cloud_given_rain = 0.9 if cloud_cover > 0.5 else 0.3\n",
        "    P_cloud_given_no_rain = 0.5 if cloud_cover > 0.5 else 0.7\n",
        "\n",
        "    # Total probability for evidence\n",
        "    P_humidity = (P_humidity_given_rain * P_rain) + \\\n",
        "                  (P_humidity_given_no_rain * (1 - P_rain))\n",
        "\n",
        "    P_cloud = (P_cloud_given_rain * P_rain) + \\\n",
        "               (P_cloud_given_no_rain * (1 - P_rain))\n",
        "\n",
        "    # Using Bayes' theorem to calculate the posterior probability of rain\n",
        "    P_rain_given_evidence = ((P_humidity_given_rain * P_humidity) +\n",
        "                             (P_cloud_given_rain * P_cloud)) / \\\n",
        "                             ((P_humidity + P_cloud))\n",
        "\n",
        "    return P_rain_given_evidence\n",
        "\n",
        "def update_probability(humidity, cloud_cover):\n",
        "    \"\"\"\n",
        "    Update the displayed probability of rain based on user inputs.\n",
        "\n",
        "    Parameters:\n",
        "    humidity (float): Humidity percentage (0 to 1).\n",
        "    cloud_cover (float): Cloud cover percentage (0 to 1).\n",
        "    \"\"\"\n",
        "    probability_of_rain = calculate_probability_of_rain(humidity, cloud_cover)\n",
        "\n",
        "    print(f\"\\nWith {humidity*100:.1f}% humidity and {cloud_cover*100:.1f}% cloud cover,\")\n",
        "    print(f\"the probability of rain is: {probability_of_rain:.2f}\")\n",
        "\n",
        "# Create interactive widgets for humidity and cloud cover\n",
        "humidity_slider = widgets.FloatSlider(value=0.5, min=0, max=1, step=0.01, description='Humidity:')\n",
        "cloud_cover_slider = widgets.FloatSlider(value=0.5, min=0, max=1, step=0.01, description='Cloud Cover:')\n",
        "\n",
        "# Link the sliders to the update function\n",
        "widgets.interactive(update_probability,\n",
        "                    humidity=humidity_slider,\n",
        "                    cloud_cover=cloud_cover_slider)\n",
        "\n",
        "# Display the sliders\n",
        "display(humidity_slider, cloud_cover_slider)\n",
        "\n",
        "# Initial calculation\n",
        "update_probability(humidity_slider.value, cloud_cover_slider.value)"
      ],
      "metadata": {
        "colab": {
          "base_uri": "https://localhost:8080/",
          "height": 131,
          "referenced_widgets": [
            "b54dc4e799834c89acb2ecb815b62f98",
            "4539a4a2605d4e0ead04fa5ab92a48fe",
            "39414316c3c643e2a52a0ced3e67c879",
            "40284a780e2a435293b3f1626a9b041a",
            "1af13f75c5ce47f9b381b5955cc14491",
            "e15eb986262040f3a7f159136afc510d"
          ]
        },
        "id": "tQ30ciu5Z2Yf",
        "outputId": "b48dd723-47cd-4ea3-9c3a-35dcaea399dc"
      },
      "execution_count": 27,
      "outputs": [
        {
          "output_type": "display_data",
          "data": {
            "text/plain": [
              "FloatSlider(value=0.5, description='Humidity:', max=1.0, step=0.01)"
            ],
            "application/vnd.jupyter.widget-view+json": {
              "version_major": 2,
              "version_minor": 0,
              "model_id": "b54dc4e799834c89acb2ecb815b62f98"
            }
          },
          "metadata": {}
        },
        {
          "output_type": "display_data",
          "data": {
            "text/plain": [
              "FloatSlider(value=0.5, description='Cloud Cover:', max=1.0, step=0.01)"
            ],
            "application/vnd.jupyter.widget-view+json": {
              "version_major": 2,
              "version_minor": 0,
              "model_id": "40284a780e2a435293b3f1626a9b041a"
            }
          },
          "metadata": {}
        },
        {
          "output_type": "stream",
          "name": "stdout",
          "text": [
            "\n",
            "With 50.0% humidity and 50.0% cloud cover,\n",
            "the probability of rain is: 0.25\n"
          ]
        }
      ]
    },
    {
      "cell_type": "markdown",
      "source": [
        "# **Exercise 5: Real-World Application of Probability in AI**\n",
        "\n",
        "---\n",
        "\n"
      ],
      "metadata": {
        "id": "G0_4ZQohaTyq"
      }
    },
    {
      "cell_type": "code",
      "source": [
        "p_purchase_given_cart = 0.5  # Example joint probability P(Purchase ∩ Cart)\n",
        "p_cart = 0.3                  # Example marginal probability P(Cart)\n",
        "\n",
        "# Correctly calling the function with two parameters\n",
        "p_purchase = conditional_probability(p_purchase_given_cart, p_cart)\n",
        "print(f\"Probability of purchase: {p_purchase}\")"
      ],
      "metadata": {
        "colab": {
          "base_uri": "https://localhost:8080/"
        },
        "id": "2h8UwDGpaXkh",
        "outputId": "dffa5068-186f-4f00-ebad-ab6698a43320"
      },
      "execution_count": 20,
      "outputs": [
        {
          "output_type": "stream",
          "name": "stdout",
          "text": [
            "Probability of purchase: 1.6666666666666667\n"
          ]
        }
      ]
    },
    {
      "cell_type": "markdown",
      "source": [
        "#**Assessment Task 5: Probability Distributions Visualization**"
      ],
      "metadata": {
        "id": "xWvi-s7zb23W"
      }
    },
    {
      "cell_type": "code",
      "source": [
        "import numpy as np\n",
        "import matplotlib.pyplot as plt\n",
        "from scipy.stats import binom, norm\n",
        "\n",
        "def simulate_coin_flips(n_trials, p_heads):\n",
        "    \"\"\"\n",
        "    Simulate coin flips using a binomial distribution.\n",
        "\n",
        "    Parameters:\n",
        "    n_trials (int): Number of coin flips (trials).\n",
        "    p_heads (float): Probability of getting heads.\n",
        "\n",
        "    Returns:\n",
        "    np.ndarray: Array of outcomes (number of heads).\n",
        "    \"\"\"\n",
        "    return np.random.binomial(n_trials, p_heads)\n",
        "\n",
        "def plot_distributions(n_trials, p_heads):\n",
        "    \"\"\"\n",
        "    Plot the binomial and normal distributions based on the number of trials and probability of heads.\n",
        "\n",
        "    Parameters:\n",
        "    n_trials (int): Number of coin flips (trials).\n",
        "    p_heads (float): Probability of getting heads.\n",
        "    \"\"\"\n",
        "    # Simulate coin flips\n",
        "    outcomes = simulate_coin_flips(n_trials, p_heads)\n",
        "\n",
        "    # Binomial Distribution\n",
        "    x = np.arange(0, n_trials + 1)\n",
        "    binom_pmf = binom.pmf(x, n_trials, p_heads)\n",
        "\n",
        "    # Normal Approximation\n",
        "    mean = n_trials * p_heads\n",
        "    std_dev = np.sqrt(n_trials * p_heads * (1 - p_heads))\n",
        "\n",
        "    # Create a range for normal distribution\n",
        "    normal_x = np.linspace(0, n_trials, 100)\n",
        "    normal_pdf = norm.pdf(normal_x, mean, std_dev)\n",
        "\n",
        "    # Plotting\n",
        "    plt.figure(figsize=(12, 6))\n",
        "\n",
        "    # Binomial Distribution Plot\n",
        "    plt.subplot(1, 2, 1)\n",
        "    plt.bar(x, binom_pmf, color='skyblue', alpha=0.7, label='Binomial PMF')\n",
        "    plt.title(f'Binomial Distribution\\nTrials: {n_trials}, P(Heads): {p_heads}')\n",
        "    plt.xlabel('Number of Heads')\n",
        "    plt.ylabel('Probability')\n",
        "\n",
        "    # Normal Distribution Plot\n",
        "    plt.subplot(1, 2, 2)\n",
        "    plt.plot(normal_x, normal_pdf, color='red', label='Normal Approximation', lw=2)\n",
        "    plt.title('Normal Approximation to Binomial Distribution')\n",
        "    plt.xlabel('Number of Heads')\n",
        "    plt.ylabel('Probability Density')\n",
        "\n",
        "    plt.tight_layout()\n",
        "    plt.show()\n",
        "\n",
        "# Interactive parameters\n",
        "n_trials = 1000  # Number of trials (coin flips)\n",
        "p_heads = 0.5  # Probability of heads\n",
        "\n",
        "# Initial plot\n",
        "plot_distributions(n_trials, p_heads)\n",
        "\n",
        "# Allow user to change parameters interactively\n",
        "def interactive_plot():\n",
        "    import ipywidgets as widgets\n",
        "\n",
        "    trials_slider = widgets.IntSlider(value=1000, min=10, max=5000, step=10, description='Number of Trials:')\n",
        "    prob_slider = widgets.FloatSlider(value=0.5, min=0.0, max=1.0, step=0.01, description='Probability of Heads:')\n",
        "\n",
        "    ui = widgets.VBox([trials_slider, prob_slider])\n",
        "\n",
        "    out = widgets.interactive_output(plot_distributions,\n",
        "                                     {'n_trials': trials_slider,\n",
        "                                      'p_heads': prob_slider})\n",
        "\n",
        "    display(ui, out)\n",
        "\n",
        "interactive_plot()"
      ],
      "metadata": {
        "colab": {
          "base_uri": "https://localhost:8080/",
          "height": 1000,
          "referenced_widgets": [
            "38bfe4e96dbb45a7aaeb8a739f087ea1",
            "1aa38b5ba3c642d380be4f19946c2641",
            "3a802811ded14ad4bf54a2eea3250e5e",
            "dba0849a967b490f9db34b781e26b93e",
            "c7ae364ee4234b3ebd66dd2161c958db",
            "c345be429a054e578bc14781b1c23f28",
            "bd9459dce68a45e88aa9501e21fc0d4e",
            "bd1c4f44bd104200950171e8a7f215a9",
            "75d1d752f3e04e6381f0a324a1dd8f1d",
            "e9e09e91ad9d4306be8e700843a82fa6"
          ]
        },
        "id": "HBH6_HrQcWIV",
        "outputId": "425f2d37-bcad-4e5c-a44b-ec638b2bae33"
      },
      "execution_count": 21,
      "outputs": [
        {
          "output_type": "display_data",
          "data": {
            "text/plain": [
              "<Figure size 1200x600 with 2 Axes>"
            ],
            "image/png": "[encoded data removed]"
          },
          "metadata": {}
        },
        {
          "output_type": "display_data",
          "data": {
            "text/plain": [
              "VBox(children=(IntSlider(value=1000, description='Number of Trials:', max=5000, min=10, step=10), FloatSlider(…"
            ],
            "application/vnd.jupyter.widget-view+json": {
              "version_major": 2,
              "version_minor": 0,
              "model_id": "38bfe4e96dbb45a7aaeb8a739f087ea1"
            }
          },
          "metadata": {}
        },
        {
          "output_type": "display_data",
          "data": {
            "text/plain": [
              "Output()"
            ],
            "application/vnd.jupyter.widget-view+json": {
              "version_major": 2,
              "version_minor": 0,
              "model_id": "75d1d752f3e04e6381f0a324a1dd8f1d"
            }
          },
          "metadata": {}
        }
      ]
    }
  ]
}
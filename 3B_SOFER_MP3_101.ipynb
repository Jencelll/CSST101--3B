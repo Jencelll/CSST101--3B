{
  "nbformat": 4,
  "nbformat_minor": 0,
  "metadata": {
    "colab": {
      "provenance": []
    },
    "kernelspec": {
      "name": "python3",
      "display_name": "Python 3"
    },
    "language_info": {
      "name": "python"
    }
  },
  "cells": [
    {
      "cell_type": "markdown",
      "source": [
        "#**Machine Problem: Interactive Probability and Decision-Making in AI**"
      ],
      "metadata": {
        "id": "ARDNvKvChEEf"
      }
    },
    {
      "cell_type": "markdown",
      "source": [
        "**Part 1: Implement Basic Probability Calculations**"
      ],
      "metadata": {
        "id": "q--UWjxFhKWF"
      }
    },
    {
      "cell_type": "code",
      "source": [
        "def joint_probability(p_a, p_b):\n",
        "    return p_a * p_b\n",
        "\n",
        "def marginal_probability(joint_probs):\n",
        "    return sum(joint_probs)\n",
        "\n",
        "def conditional_probability(p_b_given_a, p_a, p_b):\n",
        "    return (p_b_given_a * p_a) / p_b\n",
        "\n",
        "# Interactive component\n",
        "p_a = float(input(\"Enter the probability of event A: \"))\n",
        "p_b = float(input(\"Enter the probability of event B: \"))\n",
        "p_b_given_a = float(input(\"Enter the probability of B given A: \"))\n",
        "\n",
        "joint_prob = joint_probability(p_a, p_b)\n",
        "print(f\"Joint Probability P(A and B): {joint_prob}\")\n",
        "\n",
        "marginal_prob = marginal_probability([joint_prob])  # Simple case\n",
        "print(f\"Marginal Probability P(A or B): {marginal_prob}\")\n",
        "\n",
        "cond_prob = conditional_probability(p_b_given_a, p_a, p_b)\n",
        "print(f\"Conditional Probability P(A|B): {cond_prob}\")\n"
      ],
      "metadata": {
        "colab": {
          "base_uri": "https://localhost:8080/"
        },
        "id": "5Eh6-4wdhfxF",
        "outputId": "01e7e4ea-cd9b-423d-9d41-8a0aff20ce80"
      },
      "execution_count": 1,
      "outputs": [
        {
          "output_type": "stream",
          "name": "stdout",
          "text": [
            "Enter the probability of event A: 2\n",
            "Enter the probability of event B: 33\n",
            "Enter the probability of B given A: 2\n",
            "Joint Probability P(A and B): 66.0\n",
            "Marginal Probability P(A or B): 66.0\n",
            "Conditional Probability P(A|B): 0.12121212121212122\n"
          ]
        }
      ]
    },
    {
      "cell_type": "markdown",
      "source": [
        "**Part 2: Bayesian Inference for Real-World Scenarios**"
      ],
      "metadata": {
        "id": "AM5-Q5XWhrL3"
      }
    },
    {
      "cell_type": "code",
      "source": [
        "def bayesian_inference(p_disease, p_positive_given_disease, p_positive):\n",
        "    return (p_positive_given_disease * p_disease) / p_positive\n",
        "\n",
        "# Interactive component\n",
        "p_disease = float(input(\"Enter the prior probability of the disease: \"))\n",
        "p_positive_given_disease = float(input(\"Enter the likelihood of a positive test given the disease: \"))\n",
        "p_positive = float(input(\"Enter the probability of a positive test: \"))\n",
        "\n",
        "posterior_prob = bayesian_inference(p_disease, p_positive_given_disease, p_positive)\n",
        "print(f\"Posterior Probability of having the disease: {posterior_prob}\")\n"
      ],
      "metadata": {
        "colab": {
          "base_uri": "https://localhost:8080/"
        },
        "id": "X50KORXzh11g",
        "outputId": "4495e8c7-39b8-4e86-e380-5a07d0565a3c"
      },
      "execution_count": 2,
      "outputs": [
        {
          "output_type": "stream",
          "name": "stdout",
          "text": [
            "Enter the prior probability of the disease: 2\n",
            "Enter the likelihood of a positive test given the disease: 7\n",
            "Enter the probability of a positive test: 5\n",
            "Posterior Probability of having the disease: 2.8\n"
          ]
        }
      ]
    },
    {
      "cell_type": "markdown",
      "source": [
        "**Part 3: Simulate Decision-Making Under Uncertainty**"
      ],
      "metadata": {
        "id": "Gg1ioiDmh9Ql"
      }
    },
    {
      "cell_type": "code",
      "source": [
        "import random\n",
        "\n",
        "def simulate_decision(prob_success, reward, penalty, trials):\n",
        "    results = []\n",
        "    for _ in range(trials):\n",
        "        if random.random() < prob_success:\n",
        "            results.append(reward)\n",
        "        else:\n",
        "            results.append(penalty)\n",
        "    avg_return = sum(results) / trials\n",
        "    return avg_return\n",
        "\n",
        "# Interactive component\n",
        "prob_success = float(input(\"Enter the probability of success: \"))\n",
        "reward = float(input(\"Enter the reward for success: \"))\n",
        "penalty = float(input(\"Enter the penalty for failure: \"))\n",
        "trials = int(input(\"Enter the number of trials: \"))\n",
        "\n",
        "average_return = simulate_decision(prob_success, reward, penalty, trials)\n",
        "print(f\"Average return after {trials} trials: {average_return}\")\n"
      ],
      "metadata": {
        "colab": {
          "base_uri": "https://localhost:8080/"
        },
        "id": "32oQh5hViBTs",
        "outputId": "a6f14f86-90b1-4139-da4b-7db34495d57d"
      },
      "execution_count": 3,
      "outputs": [
        {
          "output_type": "stream",
          "name": "stdout",
          "text": [
            "Enter the probability of success: 2\n",
            "Enter the reward for success: 33\n",
            "Enter the penalty for failure: 4\n",
            "Enter the number of trials: 5\n",
            "Average return after 5 trials: 33.0\n"
          ]
        }
      ]
    },
    {
      "cell_type": "markdown",
      "source": [
        "**Part 4: Visualizing Probability Distributions**"
      ],
      "metadata": {
        "id": "N5fnUbbMiG6S"
      }
    },
    {
      "cell_type": "code",
      "source": [
        "import numpy as np\n",
        "import matplotlib.pyplot as plt\n",
        "from scipy.stats import binom, norm\n",
        "\n",
        "def plot_binomial_distribution(trials, prob_success, num_samples=1000):\n",
        "    # Generate random binomial data\n",
        "    data = binom.rvs(n=trials, p=prob_success, size=num_samples)\n",
        "\n",
        "    # Plot the histogram\n",
        "    plt.hist(data, bins=range(trials+2), density=True, alpha=0.6, color='g', label='Binomial Data')\n",
        "\n",
        "    # Overlay the binomial PMF curve\n",
        "    x = np.arange(0, trials+1)\n",
        "    binomial_pmf = binom.pmf(x, trials, prob_success)\n",
        "    plt.plot(x, binomial_pmf, 'bo', ms=8, label='Binomial PMF')\n",
        "    plt.vlines(x, 0, binomial_pmf, colors='b', lw=2)\n",
        "\n",
        "    # Plot labels and title\n",
        "    plt.title(f'Binomial Distribution (n={trials}, p={prob_success})')\n",
        "    plt.xlabel('Number of successes')\n",
        "    plt.ylabel('Probability')\n",
        "    plt.legend()\n",
        "    plt.grid(True)\n",
        "    plt.show()\n",
        "\n",
        "def plot_normal_distribution(mean, std_dev, num_samples=1000):\n",
        "    # Generate random normal data\n",
        "    data = norm.rvs(loc=mean, scale=std_dev, size=num_samples)\n",
        "\n",
        "    # Plot the histogram\n",
        "    plt.hist(data, bins=30, density=True, alpha=0.6, color='r', label='Normal Data')\n",
        "\n",
        "    # Overlay the normal PDF curve\n",
        "    x = np.linspace(min(data), max(data), 100)\n",
        "    normal_pdf = norm.pdf(x, mean, std_dev)\n",
        "    plt.plot(x, normal_pdf, 'b-', lw=2, label='Normal PDF')\n",
        "\n",
        "    # Plot labels and title\n",
        "    plt.title(f'Normal Distribution (mean={mean}, std={std_dev})')\n",
        "    plt.xlabel('Value')\n",
        "    plt.ylabel('Density')\n",
        "    plt.legend()\n",
        "    plt.grid(True)\n",
        "    plt.show()\n",
        "\n",
        "# Interactive Component\n",
        "def visualize_distribution():\n",
        "    dist_type = input(\"Choose a distribution to plot (binomial/normal): \").lower()\n",
        "\n",
        "    if dist_type == 'binomial':\n",
        "        trials = int(input(\"Enter the number of trials (n): \"))\n",
        "        prob_success = float(input(\"Enter the probability of success (p): \"))\n",
        "        num_samples = int(input(\"Enter the number of samples to generate: \"))\n",
        "        plot_binomial_distribution(trials, prob_success, num_samples)\n",
        "\n",
        "    elif dist_type == 'normal':\n",
        "        mean = float(input(\"Enter the mean: \"))\n",
        "        std_dev = float(input(\"Enter the standard deviation: \"))\n",
        "        num_samples = int(input(\"Enter the number of samples to generate: \"))\n",
        "        plot_normal_distribution(mean, std_dev, num_samples)\n",
        "\n",
        "    else:\n",
        "        print(\"Invalid distribution type. Please choose either 'binomial' or 'normal'.\")\n",
        "\n",
        "# Call the function to start the interactive process\n",
        "visualize_distribution()\n"
      ],
      "metadata": {
        "colab": {
          "base_uri": "https://localhost:8080/",
          "height": 541
        },
        "id": "EVzrhv0piML5",
        "outputId": "f4d9ac01-bcf6-47d0-e49a-a92ad050e36e"
      },
      "execution_count": 7,
      "outputs": [
        {
          "name": "stdout",
          "output_type": "stream",
          "text": [
            "Choose a distribution to plot (binomial/normal): normal\n",
            "Enter the mean: 3\n",
            "Enter the standard deviation: 44\n",
            "Enter the number of samples to generate: 33\n"
          ]
        },
        {
          "output_type": "display_data",
          "data": {
            "text/plain": [
              "<Figure size 640x480 with 1 Axes>"
            ],
            "image/png": "[encoded data removed]"
          },
          "metadata": {}
        }
      ]
    },
    {
      "cell_type": "markdown",
      "source": [
        "**Part 5: Real-World Scenario Prediction**"
      ],
      "metadata": {
        "id": "H2gnNPDbiuWo"
      }
    },
    {
      "cell_type": "code",
      "source": [
        "def calculate_rain_probability(p_rain, p_humidity_given_rain, p_cloud_given_rain, p_humidity, p_cloud):\n",
        "    # Applying Bayes' Theorem for two factors: humidity and cloud cover\n",
        "    numerator = p_humidity_given_rain * p_cloud_given_rain * p_rain\n",
        "    denominator = p_humidity * p_cloud\n",
        "    return numerator / denominator\n",
        "\n",
        "# Interactive component for user input\n",
        "def predict_rain():\n",
        "    print(\"=== Rain Prediction Model ===\")\n",
        "\n",
        "    # Gather user inputs\n",
        "    p_rain = float(input(\"Enter the prior probability of rain (P(Rain)): \"))\n",
        "    p_humidity_given_rain = float(input(\"Enter the probability of high humidity given rain (P(Humidity|Rain)): \"))\n",
        "    p_cloud_given_rain = float(input(\"Enter the probability of cloud cover given rain (P(Cloud|Rain)): \"))\n",
        "    p_humidity = float(input(\"Enter the overall probability of high humidity (P(Humidity)): \"))\n",
        "    p_cloud = float(input(\"Enter the overall probability of cloud cover (P(Cloud)): \"))\n",
        "\n",
        "    # Calculate the probability of rain given the conditions\n",
        "    prob_rain = calculate_rain_probability(p_rain, p_humidity_given_rain, p_cloud_given_rain, p_humidity, p_cloud)\n",
        "\n",
        "    # Provide feedback based on the result\n",
        "    print(f\"\\nCalculated Probability of Rain: {prob_rain:.4f}\")\n",
        "\n",
        "    # Feedback on the likelihood of rain\n",
        "    if prob_rain > 0.7:\n",
        "        print(\"It's highly likely to rain today.\")\n",
        "    elif prob_rain > 0.4:\n",
        "        print(\"There is a moderate chance of rain today.\")\n",
        "    else:\n",
        "        print(\"It's unlikely to rain today.\")\n",
        "\n",
        "# Call the function to start the prediction process\n",
        "predict_rain()\n"
      ],
      "metadata": {
        "colab": {
          "base_uri": "https://localhost:8080/"
        },
        "id": "GCwN5isni3wq",
        "outputId": "c3666d13-1849-49b1-c5a2-0c296fcfaaaf"
      },
      "execution_count": 9,
      "outputs": [
        {
          "output_type": "stream",
          "name": "stdout",
          "text": [
            "=== Rain Prediction Model ===\n",
            "Enter the prior probability of rain (P(Rain)): 3\n",
            "Enter the probability of high humidity given rain (P(Humidity|Rain)): 44\n",
            "Enter the probability of cloud cover given rain (P(Cloud|Rain)): 44\n",
            "Enter the overall probability of high humidity (P(Humidity)): 4\n",
            "Enter the overall probability of cloud cover (P(Cloud)): 1\n",
            "\n",
            "Calculated Probability of Rain: 1452.0000\n",
            "It's highly likely to rain today.\n"
          ]
        }
      ]
    }
  ]
}
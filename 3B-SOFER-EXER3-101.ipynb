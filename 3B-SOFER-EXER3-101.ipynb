{
  "nbformat": 4,
  "nbformat_minor": 0,
  "metadata": {
    "colab": {
      "provenance": []
    },
    "kernelspec": {
      "name": "python3",
      "display_name": "Python 3"
    },
    "language_info": {
      "name": "python"
    }
  },
  "cells": [
    {
      "cell_type": "markdown",
      "source": [
        "\n",
        "\n",
        "\n",
        "\n",
        "\n",
        "\n",
        "# **Exercise 3**"
      ],
      "metadata": {
        "id": "lJ9e1l22Elwc"
      }
    },
    {
      "cell_type": "markdown",
      "source": [
        "**Part 1: Defining the Problem and System Design**\n",
        "\n",
        "\n",
        "Problem Definition\n",
        "Disease Selected: Diabetes\n",
        "Contributing Factors:\n",
        "\n",
        "- Age: Older individuals are at higher risk.\n",
        "- Weight: Obesity is a significant risk factor.\n",
        "- Family History: A family history of diabetes increases risk.\n",
        "- Lifestyle: Sedentary lifestyle and poor diet contribute to the likelihood of developing diabetes."
      ],
      "metadata": {
        "id": "dnzUfovVEtAb"
      }
    },
    {
      "cell_type": "markdown",
      "source": [
        "**Part 2: Basic Probability Calculations**"
      ],
      "metadata": {
        "id": "z5vBMMI4E8sY"
      }
    },
    {
      "cell_type": "markdown",
      "source": [
        "Bayesian Inference Calculation"
      ],
      "metadata": {
        "id": "pa8UOckmFpgK"
      }
    },
    {
      "cell_type": "code",
      "source": [
        "# Example probabilities\n",
        "P_diabetes = 0.1  # Prior probability of having diabetes\n",
        "P_no_diabetes = 1 - P_diabetes  # Probability of not having diabetes\n",
        "\n",
        "# Example probabilities for age\n",
        "P_age_given_diabetes = 0.7  # Probability of being older if diabetic\n",
        "P_age_given_no_diabetes = 0.3  # Probability of being older if not diabetic"
      ],
      "metadata": {
        "id": "DAy2Q4RsF3Ld"
      },
      "execution_count": null,
      "outputs": []
    },
    {
      "cell_type": "code",
      "source": [
        "#Using Bayes' Theorem:\n",
        "\n",
        "# Calculate P(Age)\n",
        "P_age = (P_age_given_diabetes * P_diabetes) + (P_age_given_no_diabetes * P_no_diabetes)\n",
        "\n",
        "# Calculate posterior probability\n",
        "def bayes_theorem(P_B_given_A, P_A, P_B):\n",
        "    return (P_B_given_A * P_A) / P_B\n",
        "\n",
        "P_diabetes_given_age = bayes_theorem(P_age_given_diabetes, P_diabetes, P_age)\n",
        "\n",
        "print(f\"Posterior Probability of having Diabetes given Age: {P_diabetes_given_age:.2f}\")"
      ],
      "metadata": {
        "colab": {
          "base_uri": "https://localhost:8080/"
        },
        "id": "SqShJ_IGGJlL",
        "outputId": "359970ab-5f7b-4dd4-8778-b08be55d12a5"
      },
      "execution_count": null,
      "outputs": [
        {
          "output_type": "stream",
          "name": "stdout",
          "text": [
            "Posterior Probability of having Diabetes given Age: 0.21\n"
          ]
        }
      ]
    },
    {
      "cell_type": "markdown",
      "source": [
        "Part 3: Decision-Making Simulation"
      ],
      "metadata": {
        "id": "QzuYuhQhGSL_"
      }
    },
    {
      "cell_type": "code",
      "source": [
        "# Expected improvement calculation\n",
        "def expected_improvement(P_current, P_new):\n",
        "    return P_new - P_current\n",
        "\n",
        "improvement = expected_improvement(P_diabetes, P_diabetes_given_age)\n",
        "print(f\"Expected Improvement in Diagnosis: {improvement:.2f}\")"
      ],
      "metadata": {
        "colab": {
          "base_uri": "https://localhost:8080/"
        },
        "id": "l6S2xnLwHoPn",
        "outputId": "8277d80a-05f9-4e97-ae6c-451ae1ac3097"
      },
      "execution_count": null,
      "outputs": [
        {
          "output_type": "stream",
          "name": "stdout",
          "text": [
            "Expected Improvement in Diagnosis: 0.11\n"
          ]
        }
      ]
    },
    {
      "cell_type": "markdown",
      "source": [
        "Part 4: Visualize a Probability Distribution"
      ],
      "metadata": {
        "id": "lCFR9LNmHzSD"
      }
    },
    {
      "cell_type": "code",
      "source": [
        "import numpy as np\n",
        "import matplotlib.pyplot as plt\n",
        "import seaborn as sns\n",
        "from scipy.stats import binom\n",
        "\n",
        "# Binomial distribution for probabilities of outcomes\n",
        "n = 10  # Number of trials (e.g., number of patients)\n",
        "p = P_diabetes  # Probability of success (having diabetes)\n",
        "\n",
        "x = np.arange(0, n+1)\n",
        "binom_dist = binom.pmf(x, n, p)\n",
        "\n",
        "plt.figure(figsize=(10, 6))\n",
        "sns.barplot(x=x, y=binom_dist)\n",
        "plt.title('Binomial Distribution of Diabetes Diagnosis')\n",
        "plt.xlabel('Number of Successes (Diabetic Cases)')\n",
        "plt.ylabel('Probability')\n",
        "plt.show()"
      ],
      "metadata": {
        "colab": {
          "base_uri": "https://localhost:8080/",
          "height": 564
        },
        "id": "pZ22cWLmIAVj",
        "outputId": "d54e450d-2c88-4bbe-a3df-47c0a0857c22"
      },
      "execution_count": null,
      "outputs": [
        {
          "output_type": "display_data",
          "data": {
            "text/plain": [
              "<Figure size 1000x600 with 1 Axes>"
            ],
            "image/png": "[encoded data removed]"
          },
          "metadata": {}
        }
      ]
    },
    {
      "cell_type": "markdown",
      "source": [
        "\n",
        "**Reflection:**\n",
        "\n",
        "Understanding probability theory is crucial in medical diagnosis systems as it enables healthcare professionals to quantify uncertainty and make informed decisions based on available data. By applying concepts like Bayes' Theorem, clinicians can update their beliefs about a patient's condition as new evidence emerges, leading to more accurate diagnoses and tailored treatment plans. This probabilistic reasoning helps in evaluating risks, prioritizing interventions, and ultimately improving patient outcomes by allowing for a structured approach to complex clinical scenarios."
      ],
      "metadata": {
        "id": "twOO0XgDI8N-"
      }
    }
  ]
}
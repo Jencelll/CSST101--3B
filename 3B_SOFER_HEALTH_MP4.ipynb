{
  "nbformat": 4,
  "nbformat_minor": 0,
  "metadata": {
    "colab": {
      "provenance": []
    },
    "kernelspec": {
      "name": "python3",
      "display_name": "Python 3"
    },
    "language_info": {
      "name": "python"
    }
  },
  "cells": [
    {
      "cell_type": "markdown",
      "source": [
        "# **Machine Problem No. 4**"
      ],
      "metadata": {
        "id": "BQCTRZf90X9q"
      }
    },
    {
      "cell_type": "markdown",
      "source": [
        "**Exercise 1: Setting Up the Environment**"
      ],
      "metadata": {
        "id": "TK8pLZ8r0sxO"
      }
    },
    {
      "cell_type": "markdown",
      "source": [
        "**Install libraries:**"
      ],
      "metadata": {
        "id": "G1IH2CCv1vkw"
      }
    },
    {
      "cell_type": "code",
      "source": [
        "!pip install pgmpy pandas networkx matplotlib"
      ],
      "metadata": {
        "colab": {
          "base_uri": "https://localhost:8080/"
        },
        "collapsed": true,
        "id": "opbtAAWu1zj1",
        "outputId": "46ed6f0f-9100-43cd-f934-b77fca83e0a7"
      },
      "execution_count": 1,
      "outputs": [
        {
          "output_type": "stream",
          "name": "stdout",
          "text": [
            "Collecting pgmpy\n",
            "  Downloading pgmpy-0.1.26-py3-none-any.whl.metadata (9.1 kB)\n",
            "Requirement already satisfied: pandas in /usr/local/lib/python3.10/dist-packages (2.2.2)\n",
            "Requirement already satisfied: networkx in /usr/local/lib/python3.10/dist-packages (3.3)\n",
            "Requirement already satisfied: matplotlib in /usr/local/lib/python3.10/dist-packages (3.7.1)\n",
            "Requirement already satisfied: numpy in /usr/local/lib/python3.10/dist-packages (from pgmpy) (1.26.4)\n",
            "Requirement already satisfied: scipy in /usr/local/lib/python3.10/dist-packages (from pgmpy) (1.13.1)\n",
            "Requirement already satisfied: scikit-learn in /usr/local/lib/python3.10/dist-packages (from pgmpy) (1.5.2)\n",
            "Requirement already satisfied: pyparsing in /usr/local/lib/python3.10/dist-packages (from pgmpy) (3.1.4)\n",
            "Requirement already satisfied: torch in /usr/local/lib/python3.10/dist-packages (from pgmpy) (2.4.1+cu121)\n",
            "Requirement already satisfied: statsmodels in /usr/local/lib/python3.10/dist-packages (from pgmpy) (0.14.3)\n",
            "Requirement already satisfied: tqdm in /usr/local/lib/python3.10/dist-packages (from pgmpy) (4.66.5)\n",
            "Requirement already satisfied: joblib in /usr/local/lib/python3.10/dist-packages (from pgmpy) (1.4.2)\n",
            "Requirement already satisfied: opt-einsum in /usr/local/lib/python3.10/dist-packages (from pgmpy) (3.4.0)\n",
            "Requirement already satisfied: xgboost in /usr/local/lib/python3.10/dist-packages (from pgmpy) (2.1.1)\n",
            "Requirement already satisfied: google-generativeai in /usr/local/lib/python3.10/dist-packages (from pgmpy) (0.7.2)\n",
            "Requirement already satisfied: python-dateutil>=2.8.2 in /usr/local/lib/python3.10/dist-packages (from pandas) (2.8.2)\n",
            "Requirement already satisfied: pytz>=2020.1 in /usr/local/lib/python3.10/dist-packages (from pandas) (2024.2)\n",
            "Requirement already satisfied: tzdata>=2022.7 in /usr/local/lib/python3.10/dist-packages (from pandas) (2024.2)\n",
            "Requirement already satisfied: contourpy>=1.0.1 in /usr/local/lib/python3.10/dist-packages (from matplotlib) (1.3.0)\n",
            "Requirement already satisfied: cycler>=0.10 in /usr/local/lib/python3.10/dist-packages (from matplotlib) (0.12.1)\n",
            "Requirement already satisfied: fonttools>=4.22.0 in /usr/local/lib/python3.10/dist-packages (from matplotlib) (4.54.1)\n",
            "Requirement already satisfied: kiwisolver>=1.0.1 in /usr/local/lib/python3.10/dist-packages (from matplotlib) (1.4.7)\n",
            "Requirement already satisfied: packaging>=20.0 in /usr/local/lib/python3.10/dist-packages (from matplotlib) (24.1)\n",
            "Requirement already satisfied: pillow>=6.2.0 in /usr/local/lib/python3.10/dist-packages (from matplotlib) (10.4.0)\n",
            "Requirement already satisfied: six>=1.5 in /usr/local/lib/python3.10/dist-packages (from python-dateutil>=2.8.2->pandas) (1.16.0)\n",
            "Requirement already satisfied: google-ai-generativelanguage==0.6.6 in /usr/local/lib/python3.10/dist-packages (from google-generativeai->pgmpy) (0.6.6)\n",
            "Requirement already satisfied: google-api-core in /usr/local/lib/python3.10/dist-packages (from google-generativeai->pgmpy) (2.19.2)\n",
            "Requirement already satisfied: google-api-python-client in /usr/local/lib/python3.10/dist-packages (from google-generativeai->pgmpy) (2.137.0)\n",
            "Requirement already satisfied: google-auth>=2.15.0 in /usr/local/lib/python3.10/dist-packages (from google-generativeai->pgmpy) (2.27.0)\n",
            "Requirement already satisfied: protobuf in /usr/local/lib/python3.10/dist-packages (from google-generativeai->pgmpy) (3.20.3)\n",
            "Requirement already satisfied: pydantic in /usr/local/lib/python3.10/dist-packages (from google-generativeai->pgmpy) (2.9.2)\n",
            "Requirement already satisfied: typing-extensions in /usr/local/lib/python3.10/dist-packages (from google-generativeai->pgmpy) (4.12.2)\n",
            "Requirement already satisfied: proto-plus<2.0.0dev,>=1.22.3 in /usr/local/lib/python3.10/dist-packages (from google-ai-generativelanguage==0.6.6->google-generativeai->pgmpy) (1.24.0)\n",
            "Requirement already satisfied: threadpoolctl>=3.1.0 in /usr/local/lib/python3.10/dist-packages (from scikit-learn->pgmpy) (3.5.0)\n",
            "Requirement already satisfied: patsy>=0.5.6 in /usr/local/lib/python3.10/dist-packages (from statsmodels->pgmpy) (0.5.6)\n",
            "Requirement already satisfied: filelock in /usr/local/lib/python3.10/dist-packages (from torch->pgmpy) (3.16.1)\n",
            "Requirement already satisfied: sympy in /usr/local/lib/python3.10/dist-packages (from torch->pgmpy) (1.13.3)\n",
            "Requirement already satisfied: jinja2 in /usr/local/lib/python3.10/dist-packages (from torch->pgmpy) (3.1.4)\n",
            "Requirement already satisfied: fsspec in /usr/local/lib/python3.10/dist-packages (from torch->pgmpy) (2024.6.1)\n",
            "Requirement already satisfied: nvidia-nccl-cu12 in /usr/local/lib/python3.10/dist-packages (from xgboost->pgmpy) (2.23.4)\n",
            "Requirement already satisfied: googleapis-common-protos<2.0.dev0,>=1.56.2 in /usr/local/lib/python3.10/dist-packages (from google-api-core->google-generativeai->pgmpy) (1.65.0)\n",
            "Requirement already satisfied: requests<3.0.0.dev0,>=2.18.0 in /usr/local/lib/python3.10/dist-packages (from google-api-core->google-generativeai->pgmpy) (2.32.3)\n",
            "Requirement already satisfied: cachetools<6.0,>=2.0.0 in /usr/local/lib/python3.10/dist-packages (from google-auth>=2.15.0->google-generativeai->pgmpy) (5.5.0)\n",
            "Requirement already satisfied: pyasn1-modules>=0.2.1 in /usr/local/lib/python3.10/dist-packages (from google-auth>=2.15.0->google-generativeai->pgmpy) (0.4.1)\n",
            "Requirement already satisfied: rsa<5,>=3.1.4 in /usr/local/lib/python3.10/dist-packages (from google-auth>=2.15.0->google-generativeai->pgmpy) (4.9)\n",
            "Requirement already satisfied: httplib2<1.dev0,>=0.19.0 in /usr/local/lib/python3.10/dist-packages (from google-api-python-client->google-generativeai->pgmpy) (0.22.0)\n",
            "Requirement already satisfied: google-auth-httplib2<1.0.0,>=0.2.0 in /usr/local/lib/python3.10/dist-packages (from google-api-python-client->google-generativeai->pgmpy) (0.2.0)\n",
            "Requirement already satisfied: uritemplate<5,>=3.0.1 in /usr/local/lib/python3.10/dist-packages (from google-api-python-client->google-generativeai->pgmpy) (4.1.1)\n",
            "Requirement already satisfied: MarkupSafe>=2.0 in /usr/local/lib/python3.10/dist-packages (from jinja2->torch->pgmpy) (2.1.5)\n",
            "Requirement already satisfied: annotated-types>=0.6.0 in /usr/local/lib/python3.10/dist-packages (from pydantic->google-generativeai->pgmpy) (0.7.0)\n",
            "Requirement already satisfied: pydantic-core==2.23.4 in /usr/local/lib/python3.10/dist-packages (from pydantic->google-generativeai->pgmpy) (2.23.4)\n",
            "Requirement already satisfied: mpmath<1.4,>=1.1.0 in /usr/local/lib/python3.10/dist-packages (from sympy->torch->pgmpy) (1.3.0)\n",
            "Requirement already satisfied: grpcio<2.0dev,>=1.33.2 in /usr/local/lib/python3.10/dist-packages (from google-api-core[grpc]!=2.0.*,!=2.1.*,!=2.10.*,!=2.2.*,!=2.3.*,!=2.4.*,!=2.5.*,!=2.6.*,!=2.7.*,!=2.8.*,!=2.9.*,<3.0.0dev,>=1.34.1->google-ai-generativelanguage==0.6.6->google-generativeai->pgmpy) (1.64.1)\n",
            "Requirement already satisfied: grpcio-status<2.0.dev0,>=1.33.2 in /usr/local/lib/python3.10/dist-packages (from google-api-core[grpc]!=2.0.*,!=2.1.*,!=2.10.*,!=2.2.*,!=2.3.*,!=2.4.*,!=2.5.*,!=2.6.*,!=2.7.*,!=2.8.*,!=2.9.*,<3.0.0dev,>=1.34.1->google-ai-generativelanguage==0.6.6->google-generativeai->pgmpy) (1.48.2)\n",
            "Requirement already satisfied: pyasn1<0.7.0,>=0.4.6 in /usr/local/lib/python3.10/dist-packages (from pyasn1-modules>=0.2.1->google-auth>=2.15.0->google-generativeai->pgmpy) (0.6.1)\n",
            "Requirement already satisfied: charset-normalizer<4,>=2 in /usr/local/lib/python3.10/dist-packages (from requests<3.0.0.dev0,>=2.18.0->google-api-core->google-generativeai->pgmpy) (3.3.2)\n",
            "Requirement already satisfied: idna<4,>=2.5 in /usr/local/lib/python3.10/dist-packages (from requests<3.0.0.dev0,>=2.18.0->google-api-core->google-generativeai->pgmpy) (3.10)\n",
            "Requirement already satisfied: urllib3<3,>=1.21.1 in /usr/local/lib/python3.10/dist-packages (from requests<3.0.0.dev0,>=2.18.0->google-api-core->google-generativeai->pgmpy) (2.2.3)\n",
            "Requirement already satisfied: certifi>=2017.4.17 in /usr/local/lib/python3.10/dist-packages (from requests<3.0.0.dev0,>=2.18.0->google-api-core->google-generativeai->pgmpy) (2024.8.30)\n",
            "Downloading pgmpy-0.1.26-py3-none-any.whl (2.0 MB)\n",
            "\u001b[2K   \u001b[90m━━━━━━━━━━━━━━━━━━━━━━━━━━━━━━━━━━━━━━━━\u001b[0m \u001b[32m2.0/2.0 MB\u001b[0m \u001b[31m23.2 MB/s\u001b[0m eta \u001b[36m0:00:00\u001b[0m\n",
            "\u001b[?25hInstalling collected packages: pgmpy\n",
            "Successfully installed pgmpy-0.1.26\n"
          ]
        }
      ]
    },
    {
      "cell_type": "markdown",
      "source": [
        "**Import the libraries**"
      ],
      "metadata": {
        "id": "QY9f8FCQ1_Fh"
      }
    },
    {
      "cell_type": "code",
      "source": [
        "import pandas as pd\n",
        "from pgmpy.models import BayesianNetwork\n",
        "from pgmpy.factors.discrete import TabularCPD\n",
        "from pgmpy.inference import VariableElimination\n",
        "import networkx as nx\n",
        "import matplotlib.pyplot as plt"
      ],
      "metadata": {
        "id": "qzVRO1L32Eky"
      },
      "execution_count": 2,
      "outputs": []
    },
    {
      "cell_type": "markdown",
      "source": [
        "**Exercise 2: Define the Bayesian Network Structure**"
      ],
      "metadata": {
        "id": "bJjRffVf2KET"
      }
    },
    {
      "cell_type": "markdown",
      "source": [
        "Define the structure:\n"
      ],
      "metadata": {
        "id": "PM6MMkQo2OrY"
      }
    },
    {
      "cell_type": "code",
      "source": [
        "model = BayesianNetwork([\n",
        "    ('Age', 'Heart Disease'),\n",
        "    ('Smoking', 'Heart Disease'),\n",
        "    ('Exercise', 'Heart Disease'),\n",
        "    ('Cholesterol', 'Heart Disease'),\n",
        "    ('Blood Pressure', 'Heart Disease'),\n",
        "    ('Heart Disease', 'Chest Pain'),\n",
        "    ('Heart Disease', 'ECG Result')\n",
        "])\n"
      ],
      "metadata": {
        "id": "55k2YkgQ2aB_"
      },
      "execution_count": 3,
      "outputs": []
    },
    {
      "cell_type": "markdown",
      "source": [
        "**Exercise 3: Define Conditional Probability Tables (CPTs)**"
      ],
      "metadata": {
        "id": "cCn3f6jg3Oyt"
      }
    },
    {
      "cell_type": "markdown",
      "source": [
        "Create CPTs (using hypothetical values):\n"
      ],
      "metadata": {
        "id": "XkGnFb_g2d6f"
      }
    },
    {
      "cell_type": "code",
      "source": [
        "cpd_age = TabularCPD(variable='Age', variable_card=3, values=[[0.3], [0.5], [0.2]])\n",
        "cpd_smoking = TabularCPD(variable='Smoking', variable_card=2, values=[[0.4], [0.6]])\n",
        "cpd_exercise = TabularCPD(variable='Exercise', variable_card=2, values=[[0.7], [0.3]])\n",
        "cpd_cholesterol = TabularCPD(variable='Cholesterol', variable_card=2, values=[[0.5], [0.5]])\n",
        "cpd_bp = TabularCPD(variable='Blood Pressure', variable_card=2, values=[[0.4], [0.6]])\n",
        "\n",
        "cpd_hd = TabularCPD(\n",
        "    variable='Heart Disease', variable_card=2,\n",
        "    values=[[0.8, 0.6, 0.7, 0.9, 0.3, 0.2, 0.4, 0.1, 0.8, 0.6, 0.7, 0.9, 0.3, 0.2, 0.4, 0.1, 0.8, 0.6, 0.7, 0.9, 0.3, 0.2, 0.4, 0.1, 0.8, 0.6, 0.7, 0.9, 0.3, 0.2, 0.4, 0.1, 0.8, 0.6, 0.7, 0.9, 0.3, 0.2, 0.4, 0.1, 0.8, 0.6, 0.7, 0.9, 0.3, 0.2, 0.4, 0.1],\n",
        "            [0.2, 0.4, 0.3, 0.1, 0.7, 0.8, 0.6, 0.9, 0.2, 0.4, 0.3, 0.1, 0.7, 0.8, 0.6, 0.9, 0.2, 0.4, 0.3, 0.1, 0.7, 0.8, 0.6, 0.9, 0.2, 0.4, 0.3, 0.1, 0.7, 0.8, 0.6, 0.9, 0.2, 0.4, 0.3, 0.1, 0.7, 0.8, 0.6, 0.9, 0.2, 0.4, 0.3, 0.1, 0.7, 0.8, 0.6, 0.9]],\n",
        "    evidence=['Age', 'Smoking', 'Exercise', 'Cholesterol', 'Blood Pressure'],\n",
        "    evidence_card=[3, 2, 2, 2, 2]\n",
        ")\n",
        "\n",
        "cpd_cp = TabularCPD(variable='Chest Pain', variable_card=2,\n",
        "                    values=[[0.7, 0.2], [0.3, 0.8]],\n",
        "                    evidence=['Heart Disease'], evidence_card=[2])\n",
        "\n",
        "cpd_ecg = TabularCPD(variable='ECG Result', variable_card=2,\n",
        "                     values=[[0.9, 0.2], [0.1, 0.8]],\n",
        "                     evidence=['Heart Disease'], evidence_card=[2])\n",
        "\n",
        "model.add_cpds(cpd_age, cpd_smoking, cpd_exercise, cpd_cholesterol, cpd_bp, cpd_hd, cpd_cp, cpd_ecg)\n"
      ],
      "metadata": {
        "id": "IYHHkgxC2gm4"
      },
      "execution_count": 5,
      "outputs": []
    },
    {
      "cell_type": "markdown",
      "source": [
        "**Exercise 4: Inference in the Bayesian Network**"
      ],
      "metadata": {
        "id": "IyYXlhTI3S7N"
      }
    },
    {
      "cell_type": "markdown",
      "source": [
        "Perform probabilistic inference:\n",
        "\n"
      ],
      "metadata": {
        "id": "VluqZWiK3YDd"
      }
    },
    {
      "cell_type": "code",
      "source": [
        "inference = VariableElimination(model)\n",
        "\n",
        "q1 = inference.query(variables=['Heart Disease'],\n",
        "                     evidence={'Age': 1, 'Smoking': 0, 'Cholesterol': 0, 'Blood Pressure': 1})\n",
        "print(q1)\n",
        "\n",
        "q2 = inference.query(variables=['ECG Result'], evidence={'Chest Pain': 1})\n",
        "print(q2)\n"
      ],
      "metadata": {
        "colab": {
          "base_uri": "https://localhost:8080/"
        },
        "id": "FK-1OBXi3Y4N",
        "outputId": "6c421b09-3c80-4351-b653-04bdb8040625"
      },
      "execution_count": 6,
      "outputs": [
        {
          "output_type": "stream",
          "name": "stdout",
          "text": [
            "+------------------+----------------------+\n",
            "| Heart Disease    |   phi(Heart Disease) |\n",
            "+==================+======================+\n",
            "| Heart Disease(0) |               0.4800 |\n",
            "+------------------+----------------------+\n",
            "| Heart Disease(1) |               0.5200 |\n",
            "+------------------+----------------------+\n",
            "+---------------+-------------------+\n",
            "| ECG Result    |   phi(ECG Result) |\n",
            "+===============+===================+\n",
            "| ECG Result(0) |            0.4480 |\n",
            "+---------------+-------------------+\n",
            "| ECG Result(1) |            0.5520 |\n",
            "+---------------+-------------------+\n"
          ]
        }
      ]
    },
    {
      "cell_type": "markdown",
      "source": [
        "Posterior probability analysis:"
      ],
      "metadata": {
        "id": "STkJiz0n3eY0"
      }
    },
    {
      "cell_type": "code",
      "source": [
        "q3 = inference.query(variables=['Heart Disease'], evidence={'Exercise': 1})\n",
        "print(q3)\n"
      ],
      "metadata": {
        "colab": {
          "base_uri": "https://localhost:8080/"
        },
        "id": "3u2IhSK73g5t",
        "outputId": "12bfc14b-e24b-4e23-8b2e-2954d426a613"
      },
      "execution_count": 7,
      "outputs": [
        {
          "output_type": "stream",
          "name": "stdout",
          "text": [
            "+------------------+----------------------+\n",
            "| Heart Disease    |   phi(Heart Disease) |\n",
            "+==================+======================+\n",
            "| Heart Disease(0) |               0.2300 |\n",
            "+------------------+----------------------+\n",
            "| Heart Disease(1) |               0.7700 |\n",
            "+------------------+----------------------+\n"
          ]
        }
      ]
    },
    {
      "cell_type": "markdown",
      "source": [
        "**Exercise 5: Parameter Learning from Simulated Data**"
      ],
      "metadata": {
        "id": "-8kCE3Sx3lFv"
      }
    },
    {
      "cell_type": "markdown",
      "source": [
        "Generate synthetic dataset:\n",
        "\n"
      ],
      "metadata": {
        "id": "joWjDJUM3zRI"
      }
    },
    {
      "cell_type": "code",
      "source": [
        "import random\n",
        "import numpy as np\n",
        "\n",
        "num_patients = 1000\n",
        "data = pd.DataFrame({\n",
        "    'Age': np.random.choice([0, 1, 2], size=num_patients, p=[0.3, 0.5, 0.2]),\n",
        "    'Smoking': np.random.choice([0, 1], size=num_patients, p=[0.4, 0.6]),\n",
        "    'Exercise': np.random.choice([0, 1], size=num_patients, p=[0.7, 0.3]),\n",
        "    'Cholesterol': np.random.choice([0, 1], size=num_patients, p=[0.5, 0.5]),\n",
        "    'Blood Pressure': np.random.choice([0, 1], size=num_patients, p=[0.4, 0.6]),\n",
        "    'Heart Disease': np.random.choice([0, 1], size=num_patients, p=[0.8, 0.2]),\n",
        "    'Chest Pain': np.random.choice([0, 1], size=num_patients, p=[0.7, 0.3]),\n",
        "    'ECG Result': np.random.choice([0, 1], size=num_patients, p=[0.9, 0.1])\n",
        "})\n",
        "\n",
        "print(data.head())\n"
      ],
      "metadata": {
        "colab": {
          "base_uri": "https://localhost:8080/"
        },
        "id": "GLRo6AcZ3t14",
        "outputId": "7e331e85-c1bb-49e9-97ea-74fbc7464a02"
      },
      "execution_count": 8,
      "outputs": [
        {
          "output_type": "stream",
          "name": "stdout",
          "text": [
            "   Age  Smoking  Exercise  Cholesterol  Blood Pressure  Heart Disease  \\\n",
            "0    1        0         0            0               0              0   \n",
            "1    1        1         0            0               0              1   \n",
            "2    0        0         0            0               1              0   \n",
            "3    0        0         0            1               1              0   \n",
            "4    0        0         1            1               1              0   \n",
            "\n",
            "   Chest Pain  ECG Result  \n",
            "0           0           0  \n",
            "1           0           0  \n",
            "2           0           1  \n",
            "3           0           1  \n",
            "4           0           0  \n"
          ]
        }
      ]
    },
    {
      "cell_type": "markdown",
      "source": [
        "Estimate CPTs using Maximum Likelihood Estimation:\n",
        "\n"
      ],
      "metadata": {
        "id": "0zjyUo4E3xCg"
      }
    },
    {
      "cell_type": "code",
      "source": [
        "from pgmpy.estimators import MaximumLikelihoodEstimator\n",
        "\n",
        "model.fit(data, estimator=MaximumLikelihoodEstimator)\n"
      ],
      "metadata": {
        "colab": {
          "base_uri": "https://localhost:8080/"
        },
        "id": "z6T585HJ332t",
        "outputId": "b4863395-ab56-475a-969d-426af0176520"
      },
      "execution_count": 9,
      "outputs": [
        {
          "output_type": "stream",
          "name": "stderr",
          "text": [
            "WARNING:pgmpy:Replacing existing CPD for Age\n",
            "WARNING:pgmpy:Replacing existing CPD for Heart Disease\n",
            "WARNING:pgmpy:Replacing existing CPD for Smoking\n",
            "WARNING:pgmpy:Replacing existing CPD for Exercise\n",
            "WARNING:pgmpy:Replacing existing CPD for Cholesterol\n",
            "WARNING:pgmpy:Replacing existing CPD for Blood Pressure\n",
            "WARNING:pgmpy:Replacing existing CPD for Chest Pain\n",
            "WARNING:pgmpy:Replacing existing CPD for ECG Result\n"
          ]
        }
      ]
    },
    {
      "cell_type": "markdown",
      "source": [
        "**Exercise 6: Network Visualization and Sensitivity Analysis**"
      ],
      "metadata": {
        "id": "811qmf9X37Fv"
      }
    },
    {
      "cell_type": "markdown",
      "source": [
        "Visualize the network:\n",
        "\n"
      ],
      "metadata": {
        "id": "NCd2P38i4FyP"
      }
    },
    {
      "cell_type": "code",
      "source": [
        "import networkx as nx\n",
        "\n",
        "edges = model.edges()\n",
        "\n",
        "nx_graph = nx.DiGraph()\n",
        "\n",
        "nx_graph.add_edges_from(edges)\n",
        "\n",
        "nx.draw(nx_graph, with_labels=True, node_size=2000, node_color='lightblue', font_size=10, font_color='black')\n",
        "plt.show()\n",
        "\n"
      ],
      "metadata": {
        "colab": {
          "base_uri": "https://localhost:8080/",
          "height": 516
        },
        "collapsed": true,
        "id": "3VcZ8y6c4G6x",
        "outputId": "9ddb1ab8-beaa-4b49-eafd-8206c21faa25"
      },
      "execution_count": 14,
      "outputs": [
        {
          "output_type": "display_data",
          "data": {
            "text/plain": [
              "<Figure size 640x480 with 1 Axes>"
            ],
            "image/png": "[encoded data removed]"
          },
          "metadata": {}
        }
      ]
    },
    {
      "cell_type": "markdown",
      "source": [
        "Sensitivity analysis:\n",
        "\n"
      ],
      "metadata": {
        "id": "dfoSoEBU5M_7"
      }
    },
    {
      "cell_type": "code",
      "source": [
        "import matplotlib.pyplot as plt\n",
        "\n",
        "smoking_effects = []\n",
        "for p_smoking in np.linspace(0, 1, 100):\n",
        "    inference = VariableElimination(model)\n",
        "    smoking_effects.append(inference.query(variables=['Heart Disease'],\n",
        "                                           evidence={'Smoking': int(p_smoking > 0.5)}).values[1])\n",
        "\n",
        "plt.plot(np.linspace(0, 1, 100), smoking_effects)\n",
        "plt.xlabel('Probability of Smoking')\n",
        "plt.ylabel('Probability of Heart Disease')\n",
        "plt.show()\n"
      ],
      "metadata": {
        "colab": {
          "base_uri": "https://localhost:8080/",
          "height": 449
        },
        "id": "eHEifJSH5TJU",
        "outputId": "f1804c4c-f002-4365-b287-737448e9e20b"
      },
      "execution_count": 15,
      "outputs": [
        {
          "output_type": "display_data",
          "data": {
            "text/plain": [
              "<Figure size 640x480 with 1 Axes>"
            ],
            "image/png": "[encoded data removed]"
          },
          "metadata": {}
        }
      ]
    },
    {
      "cell_type": "markdown",
      "source": [],
      "metadata": {
        "id": "bpy3cNEh5YjC"
      }
    }
  ]
}
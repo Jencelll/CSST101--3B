{
  "nbformat": 4,
  "nbformat_minor": 0,
  "metadata": {
    "colab": {
      "provenance": []
    },
    "kernelspec": {
      "name": "python3",
      "display_name": "Python 3"
    },
    "language_info": {
      "name": "python"
    }
  },
  "cells": [
    {
      "cell_type": "markdown",
      "source": [
        "**# Logic Functions and AI Agent**"
      ],
      "metadata": {
        "id": "QazhyYYUtS5o"
      }
    },
    {
      "cell_type": "markdown",
      "source": [
        "## **Introduction**\n",
        "This notebook demonstrates the implementation of propositional and predicate logic functions and showcases a simple AI agent using these logic functions.\n",
        "\n",
        "## **Logic Functions**\n",
        "\n",
        "### **Propositional Logic**\n",
        "```python\n",
        "# **Define logic functions here**\n",
        "def and_operation(p, q):\n",
        "    return p and q\n",
        "\n",
        "def or_operation(p, q):\n",
        "    return p or q\n",
        "\n",
        "def not_operation(p):\n",
        "    return not p\n",
        "\n",
        "def implies_operation(p, q):\n",
        "    return not p or q"
      ],
      "metadata": {
        "id": "MmIWQ7uNthgb"
      }
    },
    {
      "cell_type": "markdown",
      "source": [
        "**Testing Propositional Logic Functions**"
      ],
      "metadata": {
        "id": "cDOh83Wlt8aP"
      }
    },
    {
      "cell_type": "code",
      "source": [
        "# Test the logic functions\n",
        "print(\"AND operation:\", and_operation(True, False))  # False\n",
        "print(\"OR operation:\", or_operation(True, False))    # True\n",
        "print(\"NOT operation:\", not_operation(True))         # False\n",
        "print(\"IMPLIES operation:\", implies_operation(True, False))  # False\n"
      ],
      "metadata": {
        "colab": {
          "base_uri": "https://localhost:8080/"
        },
        "id": "j7_Nxb4KtjSc",
        "outputId": "95f4ab1f-43f1-407a-f1c4-ea30ee2e033c"
      },
      "execution_count": 2,
      "outputs": [
        {
          "output_type": "stream",
          "name": "stdout",
          "text": [
            "AND operation: False\n",
            "OR operation: True\n",
            "NOT operation: False\n",
            "IMPLIES operation: False\n"
          ]
        }
      ]
    },
    {
      "cell_type": "markdown",
      "source": [
        "**Predicate Logic**"
      ],
      "metadata": {
        "id": "ytHp2aFnuClD"
      }
    },
    {
      "cell_type": "code",
      "source": [
        "# Define predicate functions here\n",
        "def is_even(x):\n",
        "    return x % 2 == 0\n",
        "\n",
        "# Define quantifier functions here\n",
        "def forall(predicate, domain):\n",
        "    return all(predicate(x) for x in domain)\n",
        "\n",
        "def exists(predicate, domain):\n",
        "    return any(predicate(x) for x in domain)\n"
      ],
      "metadata": {
        "id": "3N7HzSWOuU7j"
      },
      "execution_count": 3,
      "outputs": []
    },
    {
      "cell_type": "markdown",
      "source": [
        "**Testing Predicate Logic Functions**\n"
      ],
      "metadata": {
        "id": "7J-la0TAuZCu"
      }
    },
    {
      "cell_type": "code",
      "source": [
        "# Test the quantifier functions\n",
        "domain = [1, 2, 3, 4, 5]\n",
        "print(\"FOR ALL (is_even):\", forall(is_even, domain))  # False\n",
        "print(\"EXISTS (is_even):\", exists(is_even, domain))    # True\n"
      ],
      "metadata": {
        "colab": {
          "base_uri": "https://localhost:8080/"
        },
        "id": "-xCdhyO1ufPx",
        "outputId": "c96f4de7-8729-4237-e5cc-8a150dc09ae6"
      },
      "execution_count": 4,
      "outputs": [
        {
          "output_type": "stream",
          "name": "stdout",
          "text": [
            "FOR ALL (is_even): False\n",
            "EXISTS (is_even): True\n"
          ]
        }
      ]
    },
    {
      "cell_type": "markdown",
      "source": [
        "**AI Agent**"
      ],
      "metadata": {
        "id": "tTxqZ3v8uiJB"
      }
    },
    {
      "cell_type": "code",
      "source": [
        "# Define AI agent class here\n",
        "class SmartThermostat:\n",
        "    def __init__(self, set_temp):\n",
        "        self.set_temp = set_temp\n",
        "\n",
        "    def decide_action(self, current_temp):\n",
        "        if self.should_turn_on_heater(current_temp):\n",
        "            return \"Turn on heater\"\n",
        "        else:\n",
        "            return \"Do nothing\"\n",
        "\n",
        "    def should_turn_on_heater(self, current_temp):\n",
        "        return current_temp < self.set_temp\n"
      ],
      "metadata": {
        "id": "H86ZHAcHum0V"
      },
      "execution_count": 5,
      "outputs": []
    },
    {
      "cell_type": "markdown",
      "source": [
        "**Testing AI Agent**"
      ],
      "metadata": {
        "id": "GQlUYoEDuqpX"
      }
    },
    {
      "cell_type": "code",
      "source": [
        "# Test the AI agent\n",
        "thermostat = SmartThermostat(set_temp=21.0)\n",
        "print(\"Action (current_temp=18):\", thermostat.decide_action(18))  # Turn on heater\n",
        "print(\"Action (current_temp=22):\", thermostat.decide_action(22))  # Do nothing\n"
      ],
      "metadata": {
        "colab": {
          "base_uri": "https://localhost:8080/"
        },
        "id": "Sev41z6nuuGR",
        "outputId": "de344383-5b83-4250-9245-a7be12b51366"
      },
      "execution_count": 6,
      "outputs": [
        {
          "output_type": "stream",
          "name": "stdout",
          "text": [
            "Action (current_temp=18): Turn on heater\n",
            "Action (current_temp=22): Do nothing\n"
          ]
        }
      ]
    },
    {
      "cell_type": "markdown",
      "source": [],
      "metadata": {
        "id": "Ypb8yja3uxOx"
      }
    }
  ]
}